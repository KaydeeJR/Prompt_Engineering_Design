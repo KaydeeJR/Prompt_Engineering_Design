{
 "cells": [
  {
   "cell_type": "markdown",
   "metadata": {},
   "source": [
    "# <u>**Accessing scripts folder**</u>"
   ]
  },
  {
   "cell_type": "code",
   "execution_count": 1,
   "metadata": {},
   "outputs": [],
   "source": [
    "import os, sys\n",
    "my_path =\"D:\\\\10XAcademy\\\\Prompt_Engineering_Design\" \n",
    "\n",
    "os.chdir(my_path)\n",
    "path_to_module = os.path.abspath(os.getcwd()+\"\\\\scripts\")\n",
    "if path_to_module not in sys.path:\n",
    "    sys.path.append(path_to_module)"
   ]
  },
  {
   "cell_type": "markdown",
   "metadata": {},
   "source": [
    "# <u>**Fetching data**</u>"
   ]
  },
  {
   "cell_type": "code",
   "execution_count": 2,
   "metadata": {},
   "outputs": [
    {
     "name": "stdout",
     "output_type": "stream",
     "text": [
      "10 records fetched from newsarticles table\n"
     ]
    }
   ],
   "source": [
    "from add_to_SQL_DB import db_execute_fetch\n",
    "news_dataframe = db_execute_fetch(dBName='prompt_engineering', tablename='newsarticles')"
   ]
  },
  {
   "cell_type": "markdown",
   "metadata": {},
   "source": [
    "# <u>**Dataset Exploration**</u>"
   ]
  },
  {
   "cell_type": "code",
   "execution_count": 3,
   "metadata": {},
   "outputs": [
    {
     "name": "stdout",
     "output_type": "stream",
     "text": [
      "<class 'pandas.core.frame.DataFrame'>\n",
      "RangeIndex: 10 entries, 0 to 9\n",
      "Data columns (total 10 columns):\n",
      " #   Column                 Non-Null Count  Dtype         \n",
      "---  ------                 --------------  -----         \n",
      " 0   id                     10 non-null     int64         \n",
      " 1   Domain                 10 non-null     object        \n",
      " 2   Title                  10 non-null     object        \n",
      " 3   Description            10 non-null     object        \n",
      " 4   Body                   10 non-null     object        \n",
      " 5   Link                   10 non-null     object        \n",
      " 6   Timestamp              10 non-null     datetime64[ns]\n",
      " 7   Analyst_Average_Score  10 non-null     int64         \n",
      " 8   Analyst_Rank           10 non-null     int64         \n",
      " 9   Reference_Final_Score  10 non-null     float64       \n",
      "dtypes: datetime64[ns](1), float64(1), int64(3), object(5)\n",
      "memory usage: 928.0+ bytes\n"
     ]
    }
   ],
   "source": [
    "news_dataframe.info()"
   ]
  },
  {
   "cell_type": "code",
   "execution_count": 4,
   "metadata": {},
   "outputs": [
    {
     "data": {
      "text/html": [
       "<div>\n",
       "<style scoped>\n",
       "    .dataframe tbody tr th:only-of-type {\n",
       "        vertical-align: middle;\n",
       "    }\n",
       "\n",
       "    .dataframe tbody tr th {\n",
       "        vertical-align: top;\n",
       "    }\n",
       "\n",
       "    .dataframe thead th {\n",
       "        text-align: right;\n",
       "    }\n",
       "</style>\n",
       "<table border=\"1\" class=\"dataframe\">\n",
       "  <thead>\n",
       "    <tr style=\"text-align: right;\">\n",
       "      <th></th>\n",
       "      <th>id</th>\n",
       "      <th>Domain</th>\n",
       "      <th>Title</th>\n",
       "      <th>Description</th>\n",
       "      <th>Body</th>\n",
       "      <th>Link</th>\n",
       "      <th>Timestamp</th>\n",
       "      <th>Analyst_Average_Score</th>\n",
       "      <th>Analyst_Rank</th>\n",
       "      <th>Reference_Final_Score</th>\n",
       "    </tr>\n",
       "  </thead>\n",
       "  <tbody>\n",
       "    <tr>\n",
       "      <th>0</th>\n",
       "      <td>31</td>\n",
       "      <td>rassegnastampa.news</td>\n",
       "      <td>Boris Johnson using a taxpayer-funded jet for ...</td>\n",
       "      <td>…often trigger a protest vote that can upset…t...</td>\n",
       "      <td>Boris Johnson using a taxpayer-funded jet for ...</td>\n",
       "      <td>https://rassegnastampa.news/boris-johnson-usin...</td>\n",
       "      <td>2021-09-09 18:17:46</td>\n",
       "      <td>0</td>\n",
       "      <td>4</td>\n",
       "      <td>1.96</td>\n",
       "    </tr>\n",
       "    <tr>\n",
       "      <th>1</th>\n",
       "      <td>32</td>\n",
       "      <td>twitter.com</td>\n",
       "      <td>Stumbled across an interesting case, a woman f...</td>\n",
       "      <td>Stumbled across an interesting case, a woman f...</td>\n",
       "      <td>Stumbled across an interesting case, a woman f...</td>\n",
       "      <td>http://twitter.com/CoruscaKhaya/status/1435585...</td>\n",
       "      <td>2021-09-08 13:02:46</td>\n",
       "      <td>0</td>\n",
       "      <td>4</td>\n",
       "      <td>12.00</td>\n",
       "    </tr>\n",
       "    <tr>\n",
       "      <th>2</th>\n",
       "      <td>33</td>\n",
       "      <td>atpe-tchad.info</td>\n",
       "      <td>Marché Résines dans les peintures et revêtemen...</td>\n",
       "      <td>…COVID-19…COVID…COVID…COVID-19 et Post COVID…C...</td>\n",
       "      <td>Le rapport d’étude de marché Résines dans les ...</td>\n",
       "      <td>http://atpe-tchad.info/2021/09/13/marche-resin...</td>\n",
       "      <td>2021-09-13 07:32:46</td>\n",
       "      <td>0</td>\n",
       "      <td>4</td>\n",
       "      <td>0.05</td>\n",
       "    </tr>\n",
       "    <tr>\n",
       "      <th>3</th>\n",
       "      <td>34</td>\n",
       "      <td>badbluetech.bitnamiapp.com</td>\n",
       "      <td>AI drives data analytics surge, study finds</td>\n",
       "      <td>…hate raiders' linked to automated harassment ...</td>\n",
       "      <td>How to drive the funnel through content market...</td>\n",
       "      <td>http://badbluetech.bitnamiapp.com/p.php?sid=21...</td>\n",
       "      <td>2021-09-11 00:17:46</td>\n",
       "      <td>0</td>\n",
       "      <td>4</td>\n",
       "      <td>6.10</td>\n",
       "    </tr>\n",
       "    <tr>\n",
       "      <th>4</th>\n",
       "      <td>35</td>\n",
       "      <td>kryptogazette.com</td>\n",
       "      <td>Triacetin Vertrieb Markt 2021: Globale Unterne...</td>\n",
       "      <td>…Abschnitten und Endanwendungen / Organisation...</td>\n",
       "      <td>Global Triacetin Vertrieb-Markt 2021 von Herst...</td>\n",
       "      <td>https://kryptogazette.com/2021/09/08/triacetin...</td>\n",
       "      <td>2021-09-08 12:47:46</td>\n",
       "      <td>0</td>\n",
       "      <td>4</td>\n",
       "      <td>0.13</td>\n",
       "    </tr>\n",
       "  </tbody>\n",
       "</table>\n",
       "</div>"
      ],
      "text/plain": [
       "   id                      Domain  \\\n",
       "0  31         rassegnastampa.news   \n",
       "1  32                 twitter.com   \n",
       "2  33             atpe-tchad.info   \n",
       "3  34  badbluetech.bitnamiapp.com   \n",
       "4  35           kryptogazette.com   \n",
       "\n",
       "                                               Title  \\\n",
       "0  Boris Johnson using a taxpayer-funded jet for ...   \n",
       "1  Stumbled across an interesting case, a woman f...   \n",
       "2  Marché Résines dans les peintures et revêtemen...   \n",
       "3        AI drives data analytics surge, study finds   \n",
       "4  Triacetin Vertrieb Markt 2021: Globale Unterne...   \n",
       "\n",
       "                                         Description  \\\n",
       "0  …often trigger a protest vote that can upset…t...   \n",
       "1  Stumbled across an interesting case, a woman f...   \n",
       "2  …COVID-19…COVID…COVID…COVID-19 et Post COVID…C...   \n",
       "3  …hate raiders' linked to automated harassment ...   \n",
       "4  …Abschnitten und Endanwendungen / Organisation...   \n",
       "\n",
       "                                                Body  \\\n",
       "0  Boris Johnson using a taxpayer-funded jet for ...   \n",
       "1  Stumbled across an interesting case, a woman f...   \n",
       "2  Le rapport d’étude de marché Résines dans les ...   \n",
       "3  How to drive the funnel through content market...   \n",
       "4  Global Triacetin Vertrieb-Markt 2021 von Herst...   \n",
       "\n",
       "                                                Link           Timestamp  \\\n",
       "0  https://rassegnastampa.news/boris-johnson-usin... 2021-09-09 18:17:46   \n",
       "1  http://twitter.com/CoruscaKhaya/status/1435585... 2021-09-08 13:02:46   \n",
       "2  http://atpe-tchad.info/2021/09/13/marche-resin... 2021-09-13 07:32:46   \n",
       "3  http://badbluetech.bitnamiapp.com/p.php?sid=21... 2021-09-11 00:17:46   \n",
       "4  https://kryptogazette.com/2021/09/08/triacetin... 2021-09-08 12:47:46   \n",
       "\n",
       "   Analyst_Average_Score  Analyst_Rank  Reference_Final_Score  \n",
       "0                      0             4                   1.96  \n",
       "1                      0             4                  12.00  \n",
       "2                      0             4                   0.05  \n",
       "3                      0             4                   6.10  \n",
       "4                      0             4                   0.13  "
      ]
     },
     "execution_count": 4,
     "metadata": {},
     "output_type": "execute_result"
    }
   ],
   "source": [
    "news_dataframe.head()"
   ]
  },
  {
   "cell_type": "code",
   "execution_count": 5,
   "metadata": {},
   "outputs": [
    {
     "data": {
      "text/plain": [
       "\"Boris Johnson using a taxpayer-funded jet for an election campaign fits a long history of taking things he didn't pay for\""
      ]
     },
     "execution_count": 5,
     "metadata": {},
     "output_type": "execute_result"
    }
   ],
   "source": [
    "news_dataframe['Title'][0]"
   ]
  },
  {
   "cell_type": "code",
   "execution_count": 6,
   "metadata": {},
   "outputs": [
    {
     "data": {
      "text/html": [
       "<div>\n",
       "<style scoped>\n",
       "    .dataframe tbody tr th:only-of-type {\n",
       "        vertical-align: middle;\n",
       "    }\n",
       "\n",
       "    .dataframe tbody tr th {\n",
       "        vertical-align: top;\n",
       "    }\n",
       "\n",
       "    .dataframe thead th {\n",
       "        text-align: right;\n",
       "    }\n",
       "</style>\n",
       "<table border=\"1\" class=\"dataframe\">\n",
       "  <thead>\n",
       "    <tr style=\"text-align: right;\">\n",
       "      <th></th>\n",
       "      <th>id</th>\n",
       "      <th>Analyst_Average_Score</th>\n",
       "      <th>Analyst_Rank</th>\n",
       "      <th>Reference_Final_Score</th>\n",
       "    </tr>\n",
       "  </thead>\n",
       "  <tbody>\n",
       "    <tr>\n",
       "      <th>count</th>\n",
       "      <td>10.00000</td>\n",
       "      <td>10.000000</td>\n",
       "      <td>10.000000</td>\n",
       "      <td>10.000000</td>\n",
       "    </tr>\n",
       "    <tr>\n",
       "      <th>mean</th>\n",
       "      <td>35.50000</td>\n",
       "      <td>0.300000</td>\n",
       "      <td>3.400000</td>\n",
       "      <td>4.532000</td>\n",
       "    </tr>\n",
       "    <tr>\n",
       "      <th>std</th>\n",
       "      <td>3.02765</td>\n",
       "      <td>0.674949</td>\n",
       "      <td>1.074968</td>\n",
       "      <td>4.834468</td>\n",
       "    </tr>\n",
       "    <tr>\n",
       "      <th>min</th>\n",
       "      <td>31.00000</td>\n",
       "      <td>0.000000</td>\n",
       "      <td>1.000000</td>\n",
       "      <td>0.050000</td>\n",
       "    </tr>\n",
       "    <tr>\n",
       "      <th>25%</th>\n",
       "      <td>33.25000</td>\n",
       "      <td>0.000000</td>\n",
       "      <td>3.250000</td>\n",
       "      <td>0.505000</td>\n",
       "    </tr>\n",
       "    <tr>\n",
       "      <th>50%</th>\n",
       "      <td>35.50000</td>\n",
       "      <td>0.000000</td>\n",
       "      <td>4.000000</td>\n",
       "      <td>2.180000</td>\n",
       "    </tr>\n",
       "    <tr>\n",
       "      <th>75%</th>\n",
       "      <td>37.75000</td>\n",
       "      <td>0.000000</td>\n",
       "      <td>4.000000</td>\n",
       "      <td>9.100000</td>\n",
       "    </tr>\n",
       "    <tr>\n",
       "      <th>max</th>\n",
       "      <td>40.00000</td>\n",
       "      <td>2.000000</td>\n",
       "      <td>4.000000</td>\n",
       "      <td>12.000000</td>\n",
       "    </tr>\n",
       "  </tbody>\n",
       "</table>\n",
       "</div>"
      ],
      "text/plain": [
       "             id  Analyst_Average_Score  Analyst_Rank  Reference_Final_Score\n",
       "count  10.00000              10.000000     10.000000              10.000000\n",
       "mean   35.50000               0.300000      3.400000               4.532000\n",
       "std     3.02765               0.674949      1.074968               4.834468\n",
       "min    31.00000               0.000000      1.000000               0.050000\n",
       "25%    33.25000               0.000000      3.250000               0.505000\n",
       "50%    35.50000               0.000000      4.000000               2.180000\n",
       "75%    37.75000               0.000000      4.000000               9.100000\n",
       "max    40.00000               2.000000      4.000000              12.000000"
      ]
     },
     "execution_count": 6,
     "metadata": {},
     "output_type": "execute_result"
    }
   ],
   "source": [
    "news_dataframe.describe()"
   ]
  },
  {
   "cell_type": "code",
   "execution_count": 7,
   "metadata": {},
   "outputs": [
    {
     "data": {
      "text/html": [
       "<div>\n",
       "<style scoped>\n",
       "    .dataframe tbody tr th:only-of-type {\n",
       "        vertical-align: middle;\n",
       "    }\n",
       "\n",
       "    .dataframe tbody tr th {\n",
       "        vertical-align: top;\n",
       "    }\n",
       "\n",
       "    .dataframe thead th {\n",
       "        text-align: right;\n",
       "    }\n",
       "</style>\n",
       "<table border=\"1\" class=\"dataframe\">\n",
       "  <thead>\n",
       "    <tr style=\"text-align: right;\">\n",
       "      <th></th>\n",
       "      <th>Domain</th>\n",
       "      <th>Title</th>\n",
       "      <th>Description</th>\n",
       "      <th>Body</th>\n",
       "      <th>Link</th>\n",
       "    </tr>\n",
       "  </thead>\n",
       "  <tbody>\n",
       "    <tr>\n",
       "      <th>count</th>\n",
       "      <td>10</td>\n",
       "      <td>10</td>\n",
       "      <td>10</td>\n",
       "      <td>10</td>\n",
       "      <td>10</td>\n",
       "    </tr>\n",
       "    <tr>\n",
       "      <th>unique</th>\n",
       "      <td>9</td>\n",
       "      <td>10</td>\n",
       "      <td>10</td>\n",
       "      <td>10</td>\n",
       "      <td>10</td>\n",
       "    </tr>\n",
       "    <tr>\n",
       "      <th>top</th>\n",
       "      <td>eminetra.co.za</td>\n",
       "      <td>Boris Johnson using a taxpayer-funded jet for ...</td>\n",
       "      <td>…often trigger a protest vote that can upset…t...</td>\n",
       "      <td>Boris Johnson using a taxpayer-funded jet for ...</td>\n",
       "      <td>https://rassegnastampa.news/boris-johnson-usin...</td>\n",
       "    </tr>\n",
       "    <tr>\n",
       "      <th>freq</th>\n",
       "      <td>2</td>\n",
       "      <td>1</td>\n",
       "      <td>1</td>\n",
       "      <td>1</td>\n",
       "      <td>1</td>\n",
       "    </tr>\n",
       "  </tbody>\n",
       "</table>\n",
       "</div>"
      ],
      "text/plain": [
       "                Domain                                              Title  \\\n",
       "count               10                                                 10   \n",
       "unique               9                                                 10   \n",
       "top     eminetra.co.za  Boris Johnson using a taxpayer-funded jet for ...   \n",
       "freq                 2                                                  1   \n",
       "\n",
       "                                              Description  \\\n",
       "count                                                  10   \n",
       "unique                                                 10   \n",
       "top     …often trigger a protest vote that can upset…t...   \n",
       "freq                                                    1   \n",
       "\n",
       "                                                     Body  \\\n",
       "count                                                  10   \n",
       "unique                                                 10   \n",
       "top     Boris Johnson using a taxpayer-funded jet for ...   \n",
       "freq                                                    1   \n",
       "\n",
       "                                                     Link  \n",
       "count                                                  10  \n",
       "unique                                                 10  \n",
       "top     https://rassegnastampa.news/boris-johnson-usin...  \n",
       "freq                                                    1  "
      ]
     },
     "execution_count": 7,
     "metadata": {},
     "output_type": "execute_result"
    }
   ],
   "source": [
    "news_dataframe.select_dtypes(exclude=['int64','float64','datetime64']).describe()"
   ]
  },
  {
   "cell_type": "markdown",
   "metadata": {},
   "source": [
    "# <u>**WORD EMBEDDING**</u>"
   ]
  },
  {
   "cell_type": "code",
   "execution_count": 8,
   "metadata": {},
   "outputs": [],
   "source": [
    "from embed_classify import embed_data\n",
    "news_title_vectors = embed_data((news_dataframe['Title']).to_list())\n",
    "news_desc_vectors = embed_data((news_dataframe['Description']).to_list())"
   ]
  },
  {
   "cell_type": "markdown",
   "metadata": {},
   "source": [
    "# <u>**SVM CLASSIFIER TO PERFORM CLUSTERING**</u>"
   ]
  },
  {
   "cell_type": "code",
   "execution_count": 9,
   "metadata": {},
   "outputs": [
    {
     "name": "stdout",
     "output_type": "stream",
     "text": [
      "[0 0 0 0 0 0 0 0 0 0]\n"
     ]
    }
   ],
   "source": [
    "my_path =\"D:\\\\10XAcademy\\\\Prompt_Engineering_Design\" \n",
    "\n",
    "os.chdir(my_path)\n",
    "path_to_module = os.path.abspath(os.getcwd()+\"\\\\models\")\n",
    "if path_to_module not in sys.path:\n",
    "    sys.path.append(path_to_module)\n",
    "from svm_classifier import SVMClassifier\n",
    "classfier = SVMClassifier(news_title_vectors, news_dataframe['Analyst_Average_Score'])\n",
    "print(classfier.classification_model().predict(news_desc_vectors))"
   ]
  },
  {
   "cell_type": "code",
   "execution_count": 10,
   "metadata": {},
   "outputs": [
    {
     "name": "stdout",
     "output_type": "stream",
     "text": [
      "[0, 0, 0, 0, 0, 1, 0, 2, 0, 0]\n"
     ]
    }
   ],
   "source": [
    "print(news_dataframe['Analyst_Average_Score'].to_list())"
   ]
  },
  {
   "cell_type": "markdown",
   "metadata": {},
   "source": [
    "# <u>**PROMPT BASED CLASSIFICATION**</u>"
   ]
  },
  {
   "cell_type": "code",
   "execution_count": 13,
   "metadata": {},
   "outputs": [
    {
     "name": "stdout",
     "output_type": "stream",
     "text": [
      "<class 'pandas.core.series.Series'>\n"
     ]
    },
    {
     "ename": "CohereError",
     "evalue": "invalid type, for proper usage, please refer to https://docs.cohere.ai/classify-reference",
     "output_type": "error",
     "traceback": [
      "\u001b[1;31m---------------------------------------------------------------------------\u001b[0m",
      "\u001b[1;31mCohereError\u001b[0m                               Traceback (most recent call last)",
      "\u001b[1;32md:\\10XAcademy\\Prompt_Engineering_Design\\notebooks\\eda_news.ipynb Cell 17\u001b[0m in \u001b[0;36m<cell line: 3>\u001b[1;34m()\u001b[0m\n\u001b[0;32m      <a href='vscode-notebook-cell:/d%3A/10XAcademy/Prompt_Engineering_Design/notebooks/eda_news.ipynb#X25sZmlsZQ%3D%3D?line=0'>1</a>\u001b[0m \u001b[39mimport\u001b[39;00m \u001b[39mclassify_api\u001b[39;00m\n\u001b[0;32m      <a href='vscode-notebook-cell:/d%3A/10XAcademy/Prompt_Engineering_Design/notebooks/eda_news.ipynb#X25sZmlsZQ%3D%3D?line=1'>2</a>\u001b[0m examples \u001b[39m=\u001b[39m classify_api\u001b[39m.\u001b[39mcreate_examples(news_dataframe\u001b[39m.\u001b[39mdrop([\u001b[39m'\u001b[39m\u001b[39mAnalyst_Average_Score\u001b[39m\u001b[39m'\u001b[39m,\u001b[39m'\u001b[39m\u001b[39mTimestamp\u001b[39m\u001b[39m'\u001b[39m],axis\u001b[39m=\u001b[39m\u001b[39m1\u001b[39m)\u001b[39m.\u001b[39mvalues\u001b[39m.\u001b[39mtolist(), news_dataframe[\u001b[39m'\u001b[39m\u001b[39mAnalyst_Average_Score\u001b[39m\u001b[39m'\u001b[39m]\u001b[39m.\u001b[39mvalues\u001b[39m.\u001b[39mtolist())\n\u001b[1;32m----> <a href='vscode-notebook-cell:/d%3A/10XAcademy/Prompt_Engineering_Design/notebooks/eda_news.ipynb#X25sZmlsZQ%3D%3D?line=2'>3</a>\u001b[0m y_pred \u001b[39m=\u001b[39m news_dataframe\u001b[39m.\u001b[39;49mdrop(\u001b[39m'\u001b[39;49m\u001b[39mTimestamp\u001b[39;49m\u001b[39m'\u001b[39;49m,axis\u001b[39m=\u001b[39;49m\u001b[39m1\u001b[39;49m)\u001b[39m.\u001b[39;49mapply(func\u001b[39m=\u001b[39;49mclassify_api\u001b[39m.\u001b[39;49mclassify_data, args\u001b[39m=\u001b[39;49m(examples,))\u001b[39m.\u001b[39mtolist()\n",
      "File \u001b[1;32mc:\\Users\\JaneRose\\anaconda3\\envs\\myenv\\lib\\site-packages\\pandas\\core\\frame.py:8845\u001b[0m, in \u001b[0;36mDataFrame.apply\u001b[1;34m(self, func, axis, raw, result_type, args, **kwargs)\u001b[0m\n\u001b[0;32m   8834\u001b[0m \u001b[39mfrom\u001b[39;00m \u001b[39mpandas\u001b[39;00m\u001b[39m.\u001b[39;00m\u001b[39mcore\u001b[39;00m\u001b[39m.\u001b[39;00m\u001b[39mapply\u001b[39;00m \u001b[39mimport\u001b[39;00m frame_apply\n\u001b[0;32m   8836\u001b[0m op \u001b[39m=\u001b[39m frame_apply(\n\u001b[0;32m   8837\u001b[0m     \u001b[39mself\u001b[39m,\n\u001b[0;32m   8838\u001b[0m     func\u001b[39m=\u001b[39mfunc,\n\u001b[1;32m   (...)\u001b[0m\n\u001b[0;32m   8843\u001b[0m     kwargs\u001b[39m=\u001b[39mkwargs,\n\u001b[0;32m   8844\u001b[0m )\n\u001b[1;32m-> 8845\u001b[0m \u001b[39mreturn\u001b[39;00m op\u001b[39m.\u001b[39;49mapply()\u001b[39m.\u001b[39m__finalize__(\u001b[39mself\u001b[39m, method\u001b[39m=\u001b[39m\u001b[39m\"\u001b[39m\u001b[39mapply\u001b[39m\u001b[39m\"\u001b[39m)\n",
      "File \u001b[1;32mc:\\Users\\JaneRose\\anaconda3\\envs\\myenv\\lib\\site-packages\\pandas\\core\\apply.py:733\u001b[0m, in \u001b[0;36mFrameApply.apply\u001b[1;34m(self)\u001b[0m\n\u001b[0;32m    730\u001b[0m \u001b[39melif\u001b[39;00m \u001b[39mself\u001b[39m\u001b[39m.\u001b[39mraw:\n\u001b[0;32m    731\u001b[0m     \u001b[39mreturn\u001b[39;00m \u001b[39mself\u001b[39m\u001b[39m.\u001b[39mapply_raw()\n\u001b[1;32m--> 733\u001b[0m \u001b[39mreturn\u001b[39;00m \u001b[39mself\u001b[39;49m\u001b[39m.\u001b[39;49mapply_standard()\n",
      "File \u001b[1;32mc:\\Users\\JaneRose\\anaconda3\\envs\\myenv\\lib\\site-packages\\pandas\\core\\apply.py:857\u001b[0m, in \u001b[0;36mFrameApply.apply_standard\u001b[1;34m(self)\u001b[0m\n\u001b[0;32m    856\u001b[0m \u001b[39mdef\u001b[39;00m \u001b[39mapply_standard\u001b[39m(\u001b[39mself\u001b[39m):\n\u001b[1;32m--> 857\u001b[0m     results, res_index \u001b[39m=\u001b[39m \u001b[39mself\u001b[39;49m\u001b[39m.\u001b[39;49mapply_series_generator()\n\u001b[0;32m    859\u001b[0m     \u001b[39m# wrap results\u001b[39;00m\n\u001b[0;32m    860\u001b[0m     \u001b[39mreturn\u001b[39;00m \u001b[39mself\u001b[39m\u001b[39m.\u001b[39mwrap_results(results, res_index)\n",
      "File \u001b[1;32mc:\\Users\\JaneRose\\anaconda3\\envs\\myenv\\lib\\site-packages\\pandas\\core\\apply.py:873\u001b[0m, in \u001b[0;36mFrameApply.apply_series_generator\u001b[1;34m(self)\u001b[0m\n\u001b[0;32m    870\u001b[0m \u001b[39mwith\u001b[39;00m option_context(\u001b[39m\"\u001b[39m\u001b[39mmode.chained_assignment\u001b[39m\u001b[39m\"\u001b[39m, \u001b[39mNone\u001b[39;00m):\n\u001b[0;32m    871\u001b[0m     \u001b[39mfor\u001b[39;00m i, v \u001b[39min\u001b[39;00m \u001b[39menumerate\u001b[39m(series_gen):\n\u001b[0;32m    872\u001b[0m         \u001b[39m# ignore SettingWithCopy here in case the user mutates\u001b[39;00m\n\u001b[1;32m--> 873\u001b[0m         results[i] \u001b[39m=\u001b[39m \u001b[39mself\u001b[39;49m\u001b[39m.\u001b[39;49mf(v)\n\u001b[0;32m    874\u001b[0m         \u001b[39mif\u001b[39;00m \u001b[39misinstance\u001b[39m(results[i], ABCSeries):\n\u001b[0;32m    875\u001b[0m             \u001b[39m# If we have a view on v, we need to make a copy because\u001b[39;00m\n\u001b[0;32m    876\u001b[0m             \u001b[39m#  series_generator will swap out the underlying data\u001b[39;00m\n\u001b[0;32m    877\u001b[0m             results[i] \u001b[39m=\u001b[39m results[i]\u001b[39m.\u001b[39mcopy(deep\u001b[39m=\u001b[39m\u001b[39mFalse\u001b[39;00m)\n",
      "File \u001b[1;32mc:\\Users\\JaneRose\\anaconda3\\envs\\myenv\\lib\\site-packages\\pandas\\core\\apply.py:138\u001b[0m, in \u001b[0;36mApply.__init__.<locals>.f\u001b[1;34m(x)\u001b[0m\n\u001b[0;32m    137\u001b[0m \u001b[39mdef\u001b[39;00m \u001b[39mf\u001b[39m(x):\n\u001b[1;32m--> 138\u001b[0m     \u001b[39mreturn\u001b[39;00m func(x, \u001b[39m*\u001b[39margs, \u001b[39m*\u001b[39m\u001b[39m*\u001b[39mkwargs)\n",
      "File \u001b[1;32mD:\\10XAcademy\\Prompt_Engineering_Design\\scripts\\classify_api.py:26\u001b[0m, in \u001b[0;36mclassify_data\u001b[1;34m(text_to_classify, examples)\u001b[0m\n\u001b[0;32m     22\u001b[0m \u001b[39m\"\"\"\u001b[39;00m\n\u001b[0;32m     23\u001b[0m \u001b[39mclassify() returns a list\u001b[39;00m\n\u001b[0;32m     24\u001b[0m \u001b[39m\"\"\"\u001b[39;00m\n\u001b[0;32m     25\u001b[0m \u001b[39mprint\u001b[39m(\u001b[39mtype\u001b[39m(text_to_classify))\n\u001b[1;32m---> 26\u001b[0m classifications \u001b[39m=\u001b[39m co\u001b[39m.\u001b[39;49mclassify(\n\u001b[0;32m     27\u001b[0m model\u001b[39m=\u001b[39;49m\u001b[39m'\u001b[39;49m\u001b[39mmedium\u001b[39;49m\u001b[39m'\u001b[39;49m,\n\u001b[0;32m     28\u001b[0m inputs\u001b[39m=\u001b[39;49mtext_to_classify\u001b[39m.\u001b[39;49mto_json(),\n\u001b[0;32m     29\u001b[0m examples\u001b[39m=\u001b[39;49mexamples)\n\u001b[0;32m     30\u001b[0m \u001b[39mreturn\u001b[39;00m classifications\u001b[39m.\u001b[39mclassifications[\u001b[39m0\u001b[39m]\u001b[39m.\u001b[39mprediction\n",
      "File \u001b[1;32mc:\\Users\\JaneRose\\anaconda3\\envs\\myenv\\lib\\site-packages\\cohere\\client.py:172\u001b[0m, in \u001b[0;36mClient.classify\u001b[1;34m(self, inputs, model, examples, taskDescription, outputIndicator, truncate)\u001b[0m\n\u001b[0;32m    162\u001b[0m     examples_dicts\u001b[39m.\u001b[39mappend(example_dict)\n\u001b[0;32m    164\u001b[0m json_body \u001b[39m=\u001b[39m json\u001b[39m.\u001b[39mdumps({\n\u001b[0;32m    165\u001b[0m     \u001b[39m'\u001b[39m\u001b[39mmodel\u001b[39m\u001b[39m'\u001b[39m: model,\n\u001b[0;32m    166\u001b[0m     \u001b[39m'\u001b[39m\u001b[39minputs\u001b[39m\u001b[39m'\u001b[39m: inputs,\n\u001b[1;32m   (...)\u001b[0m\n\u001b[0;32m    170\u001b[0m     \u001b[39m'\u001b[39m\u001b[39mtruncate\u001b[39m\u001b[39m'\u001b[39m: truncate,\n\u001b[0;32m    171\u001b[0m })\n\u001b[1;32m--> 172\u001b[0m response \u001b[39m=\u001b[39m \u001b[39mself\u001b[39;49m\u001b[39m.\u001b[39;49m__request(json_body, cohere\u001b[39m.\u001b[39;49mCLASSIFY_URL)\n\u001b[0;32m    174\u001b[0m classifications \u001b[39m=\u001b[39m []\n\u001b[0;32m    175\u001b[0m \u001b[39mfor\u001b[39;00m res \u001b[39min\u001b[39;00m response[\u001b[39m'\u001b[39m\u001b[39mclassifications\u001b[39m\u001b[39m'\u001b[39m]:\n",
      "File \u001b[1;32mc:\\Users\\JaneRose\\anaconda3\\envs\\myenv\\lib\\site-packages\\cohere\\client.py:277\u001b[0m, in \u001b[0;36mClient.__request\u001b[1;34m(self, json_body, endpoint)\u001b[0m\n\u001b[0;32m    275\u001b[0m         \u001b[39mraise\u001b[39;00m CohereError(message\u001b[39m=\u001b[39mresponse\u001b[39m.\u001b[39mtext, http_status\u001b[39m=\u001b[39mresponse\u001b[39m.\u001b[39mstatus_code, headers\u001b[39m=\u001b[39mresponse\u001b[39m.\u001b[39mheaders)\n\u001b[0;32m    276\u001b[0m     \u001b[39mif\u001b[39;00m \u001b[39m'\u001b[39m\u001b[39mmessage\u001b[39m\u001b[39m'\u001b[39m \u001b[39min\u001b[39;00m res\u001b[39m.\u001b[39mkeys():  \u001b[39m# has errors\u001b[39;00m\n\u001b[1;32m--> 277\u001b[0m         \u001b[39mraise\u001b[39;00m CohereError(message\u001b[39m=\u001b[39mres[\u001b[39m'\u001b[39m\u001b[39mmessage\u001b[39m\u001b[39m'\u001b[39m], http_status\u001b[39m=\u001b[39mresponse\u001b[39m.\u001b[39mstatus_code, headers\u001b[39m=\u001b[39mresponse\u001b[39m.\u001b[39mheaders)\n\u001b[0;32m    278\u001b[0m     \u001b[39mself\u001b[39m\u001b[39m.\u001b[39m__print_warning_msg(response)\n\u001b[0;32m    280\u001b[0m \u001b[39mreturn\u001b[39;00m res\n",
      "\u001b[1;31mCohereError\u001b[0m: invalid type, for proper usage, please refer to https://docs.cohere.ai/classify-reference"
     ]
    }
   ],
   "source": [
    "import classify_api\n",
    "examples = classify_api.create_examples(news_dataframe.drop(['Analyst_Average_Score','Timestamp'],axis=1).values.tolist(), news_dataframe['Analyst_Average_Score'].values.tolist())\n",
    "print(examples)\n",
    "y_pred = news_dataframe.drop('Timestamp',axis=1).apply(func=classify_api.classify_data, args=(examples,)).tolist()"
   ]
  }
 ],
 "metadata": {
  "kernelspec": {
   "display_name": "Python 3.10.4 ('myenv')",
   "language": "python",
   "name": "python3"
  },
  "language_info": {
   "codemirror_mode": {
    "name": "ipython",
    "version": 3
   },
   "file_extension": ".py",
   "mimetype": "text/x-python",
   "name": "python",
   "nbconvert_exporter": "python",
   "pygments_lexer": "ipython3",
   "version": "3.10.4"
  },
  "orig_nbformat": 4,
  "vscode": {
   "interpreter": {
    "hash": "f61505df545e71d218b2a3d8a67aa63bf357ca6798109a5ea79f5fc3ecda9894"
   }
  }
 },
 "nbformat": 4,
 "nbformat_minor": 2
}
