{
 "cells": [
  {
   "cell_type": "markdown",
   "metadata": {},
   "source": [
    "# <u>**Accessing scripts folder**</u>"
   ]
  },
  {
   "cell_type": "code",
   "execution_count": 2,
   "metadata": {},
   "outputs": [],
   "source": [
    "import os, sys\n",
    "my_path =\"D:\\\\10XAcademy\\\\Prompt_Engineering_Design\" \n",
    "\n",
    "os.chdir(my_path)\n",
    "path_to_module = os.path.abspath(os.getcwd()+\"\\\\scripts\")\n",
    "if path_to_module not in sys.path:\n",
    "    sys.path.append(path_to_module)"
   ]
  },
  {
   "cell_type": "markdown",
   "metadata": {},
   "source": [
    "# <u>**Fetching data**</u>"
   ]
  },
  {
   "cell_type": "code",
   "execution_count": 3,
   "metadata": {},
   "outputs": [
    {
     "name": "stdout",
     "output_type": "stream",
     "text": [
      "10 records fetched from newsarticles table\n"
     ]
    }
   ],
   "source": [
    "from add_to_SQL_DB import db_execute_fetch\n",
    "from extract_dataframe import save_df_to_csv\n",
    "news_dataframe = db_execute_fetch(dBName='prompt_engineering', tablename='newsarticles')\n",
    "# save the dataframe as a csv\n",
    "save_df_to_csv(news_dataframe,os.getcwd()+\"\\\\data\\\\news_articles.csv\")"
   ]
  },
  {
   "cell_type": "markdown",
   "metadata": {},
   "source": [
    "# <u>**Dataset Exploration**</u>"
   ]
  },
  {
   "cell_type": "code",
   "execution_count": 4,
   "metadata": {},
   "outputs": [
    {
     "name": "stdout",
     "output_type": "stream",
     "text": [
      "<class 'pandas.core.frame.DataFrame'>\n",
      "RangeIndex: 10 entries, 0 to 9\n",
      "Data columns (total 10 columns):\n",
      " #   Column                 Non-Null Count  Dtype         \n",
      "---  ------                 --------------  -----         \n",
      " 0   id                     10 non-null     int64         \n",
      " 1   Domain                 10 non-null     object        \n",
      " 2   Title                  10 non-null     object        \n",
      " 3   Description            10 non-null     object        \n",
      " 4   Body                   10 non-null     object        \n",
      " 5   Link                   10 non-null     object        \n",
      " 6   Timestamp              10 non-null     datetime64[ns]\n",
      " 7   Analyst_Average_Score  10 non-null     int64         \n",
      " 8   Analyst_Rank           10 non-null     int64         \n",
      " 9   Reference_Final_Score  10 non-null     float64       \n",
      "dtypes: datetime64[ns](1), float64(1), int64(3), object(5)\n",
      "memory usage: 928.0+ bytes\n"
     ]
    }
   ],
   "source": [
    "news_dataframe.info()"
   ]
  },
  {
   "cell_type": "code",
   "execution_count": 5,
   "metadata": {},
   "outputs": [
    {
     "data": {
      "text/html": [
       "<div>\n",
       "<style scoped>\n",
       "    .dataframe tbody tr th:only-of-type {\n",
       "        vertical-align: middle;\n",
       "    }\n",
       "\n",
       "    .dataframe tbody tr th {\n",
       "        vertical-align: top;\n",
       "    }\n",
       "\n",
       "    .dataframe thead th {\n",
       "        text-align: right;\n",
       "    }\n",
       "</style>\n",
       "<table border=\"1\" class=\"dataframe\">\n",
       "  <thead>\n",
       "    <tr style=\"text-align: right;\">\n",
       "      <th></th>\n",
       "      <th>id</th>\n",
       "      <th>Domain</th>\n",
       "      <th>Title</th>\n",
       "      <th>Description</th>\n",
       "      <th>Body</th>\n",
       "      <th>Link</th>\n",
       "      <th>Timestamp</th>\n",
       "      <th>Analyst_Average_Score</th>\n",
       "      <th>Analyst_Rank</th>\n",
       "      <th>Reference_Final_Score</th>\n",
       "    </tr>\n",
       "  </thead>\n",
       "  <tbody>\n",
       "    <tr>\n",
       "      <th>0</th>\n",
       "      <td>31</td>\n",
       "      <td>rassegnastampa.news</td>\n",
       "      <td>Boris Johnson using a taxpayer-funded jet for ...</td>\n",
       "      <td>…often trigger a protest vote that can upset…t...</td>\n",
       "      <td>Boris Johnson using a taxpayer-funded jet for ...</td>\n",
       "      <td>https://rassegnastampa.news/boris-johnson-usin...</td>\n",
       "      <td>2021-09-09 18:17:46</td>\n",
       "      <td>0</td>\n",
       "      <td>4</td>\n",
       "      <td>1.96</td>\n",
       "    </tr>\n",
       "    <tr>\n",
       "      <th>1</th>\n",
       "      <td>32</td>\n",
       "      <td>twitter.com</td>\n",
       "      <td>Stumbled across an interesting case, a woman f...</td>\n",
       "      <td>Stumbled across an interesting case, a woman f...</td>\n",
       "      <td>Stumbled across an interesting case, a woman f...</td>\n",
       "      <td>http://twitter.com/CoruscaKhaya/status/1435585...</td>\n",
       "      <td>2021-09-08 13:02:46</td>\n",
       "      <td>0</td>\n",
       "      <td>4</td>\n",
       "      <td>12.00</td>\n",
       "    </tr>\n",
       "    <tr>\n",
       "      <th>2</th>\n",
       "      <td>33</td>\n",
       "      <td>atpe-tchad.info</td>\n",
       "      <td>Marché Résines dans les peintures et revêtemen...</td>\n",
       "      <td>…COVID-19…COVID…COVID…COVID-19 et Post COVID…C...</td>\n",
       "      <td>Le rapport d’étude de marché Résines dans les ...</td>\n",
       "      <td>http://atpe-tchad.info/2021/09/13/marche-resin...</td>\n",
       "      <td>2021-09-13 07:32:46</td>\n",
       "      <td>0</td>\n",
       "      <td>4</td>\n",
       "      <td>0.05</td>\n",
       "    </tr>\n",
       "    <tr>\n",
       "      <th>3</th>\n",
       "      <td>34</td>\n",
       "      <td>badbluetech.bitnamiapp.com</td>\n",
       "      <td>AI drives data analytics surge, study finds</td>\n",
       "      <td>…hate raiders' linked to automated harassment ...</td>\n",
       "      <td>How to drive the funnel through content market...</td>\n",
       "      <td>http://badbluetech.bitnamiapp.com/p.php?sid=21...</td>\n",
       "      <td>2021-09-11 00:17:46</td>\n",
       "      <td>0</td>\n",
       "      <td>4</td>\n",
       "      <td>6.10</td>\n",
       "    </tr>\n",
       "    <tr>\n",
       "      <th>4</th>\n",
       "      <td>35</td>\n",
       "      <td>kryptogazette.com</td>\n",
       "      <td>Triacetin Vertrieb Markt 2021: Globale Unterne...</td>\n",
       "      <td>…Abschnitten und Endanwendungen / Organisation...</td>\n",
       "      <td>Global Triacetin Vertrieb-Markt 2021 von Herst...</td>\n",
       "      <td>https://kryptogazette.com/2021/09/08/triacetin...</td>\n",
       "      <td>2021-09-08 12:47:46</td>\n",
       "      <td>0</td>\n",
       "      <td>4</td>\n",
       "      <td>0.13</td>\n",
       "    </tr>\n",
       "  </tbody>\n",
       "</table>\n",
       "</div>"
      ],
      "text/plain": [
       "   id                      Domain  \\\n",
       "0  31         rassegnastampa.news   \n",
       "1  32                 twitter.com   \n",
       "2  33             atpe-tchad.info   \n",
       "3  34  badbluetech.bitnamiapp.com   \n",
       "4  35           kryptogazette.com   \n",
       "\n",
       "                                               Title  \\\n",
       "0  Boris Johnson using a taxpayer-funded jet for ...   \n",
       "1  Stumbled across an interesting case, a woman f...   \n",
       "2  Marché Résines dans les peintures et revêtemen...   \n",
       "3        AI drives data analytics surge, study finds   \n",
       "4  Triacetin Vertrieb Markt 2021: Globale Unterne...   \n",
       "\n",
       "                                         Description  \\\n",
       "0  …often trigger a protest vote that can upset…t...   \n",
       "1  Stumbled across an interesting case, a woman f...   \n",
       "2  …COVID-19…COVID…COVID…COVID-19 et Post COVID…C...   \n",
       "3  …hate raiders' linked to automated harassment ...   \n",
       "4  …Abschnitten und Endanwendungen / Organisation...   \n",
       "\n",
       "                                                Body  \\\n",
       "0  Boris Johnson using a taxpayer-funded jet for ...   \n",
       "1  Stumbled across an interesting case, a woman f...   \n",
       "2  Le rapport d’étude de marché Résines dans les ...   \n",
       "3  How to drive the funnel through content market...   \n",
       "4  Global Triacetin Vertrieb-Markt 2021 von Herst...   \n",
       "\n",
       "                                                Link           Timestamp  \\\n",
       "0  https://rassegnastampa.news/boris-johnson-usin... 2021-09-09 18:17:46   \n",
       "1  http://twitter.com/CoruscaKhaya/status/1435585... 2021-09-08 13:02:46   \n",
       "2  http://atpe-tchad.info/2021/09/13/marche-resin... 2021-09-13 07:32:46   \n",
       "3  http://badbluetech.bitnamiapp.com/p.php?sid=21... 2021-09-11 00:17:46   \n",
       "4  https://kryptogazette.com/2021/09/08/triacetin... 2021-09-08 12:47:46   \n",
       "\n",
       "   Analyst_Average_Score  Analyst_Rank  Reference_Final_Score  \n",
       "0                      0             4                   1.96  \n",
       "1                      0             4                  12.00  \n",
       "2                      0             4                   0.05  \n",
       "3                      0             4                   6.10  \n",
       "4                      0             4                   0.13  "
      ]
     },
     "execution_count": 5,
     "metadata": {},
     "output_type": "execute_result"
    }
   ],
   "source": [
    "news_dataframe.head()"
   ]
  },
  {
   "cell_type": "code",
   "execution_count": 6,
   "metadata": {},
   "outputs": [
    {
     "data": {
      "text/plain": [
       "\"Boris Johnson using a taxpayer-funded jet for an election campaign fits a long history of taking things he didn't pay for\""
      ]
     },
     "execution_count": 6,
     "metadata": {},
     "output_type": "execute_result"
    }
   ],
   "source": [
    "news_dataframe['Title'][0]"
   ]
  },
  {
   "cell_type": "code",
   "execution_count": 7,
   "metadata": {},
   "outputs": [
    {
     "data": {
      "text/html": [
       "<div>\n",
       "<style scoped>\n",
       "    .dataframe tbody tr th:only-of-type {\n",
       "        vertical-align: middle;\n",
       "    }\n",
       "\n",
       "    .dataframe tbody tr th {\n",
       "        vertical-align: top;\n",
       "    }\n",
       "\n",
       "    .dataframe thead th {\n",
       "        text-align: right;\n",
       "    }\n",
       "</style>\n",
       "<table border=\"1\" class=\"dataframe\">\n",
       "  <thead>\n",
       "    <tr style=\"text-align: right;\">\n",
       "      <th></th>\n",
       "      <th>id</th>\n",
       "      <th>Analyst_Average_Score</th>\n",
       "      <th>Analyst_Rank</th>\n",
       "      <th>Reference_Final_Score</th>\n",
       "    </tr>\n",
       "  </thead>\n",
       "  <tbody>\n",
       "    <tr>\n",
       "      <th>count</th>\n",
       "      <td>10.00000</td>\n",
       "      <td>10.000000</td>\n",
       "      <td>10.000000</td>\n",
       "      <td>10.000000</td>\n",
       "    </tr>\n",
       "    <tr>\n",
       "      <th>mean</th>\n",
       "      <td>35.50000</td>\n",
       "      <td>0.300000</td>\n",
       "      <td>3.400000</td>\n",
       "      <td>4.532000</td>\n",
       "    </tr>\n",
       "    <tr>\n",
       "      <th>std</th>\n",
       "      <td>3.02765</td>\n",
       "      <td>0.674949</td>\n",
       "      <td>1.074968</td>\n",
       "      <td>4.834468</td>\n",
       "    </tr>\n",
       "    <tr>\n",
       "      <th>min</th>\n",
       "      <td>31.00000</td>\n",
       "      <td>0.000000</td>\n",
       "      <td>1.000000</td>\n",
       "      <td>0.050000</td>\n",
       "    </tr>\n",
       "    <tr>\n",
       "      <th>25%</th>\n",
       "      <td>33.25000</td>\n",
       "      <td>0.000000</td>\n",
       "      <td>3.250000</td>\n",
       "      <td>0.505000</td>\n",
       "    </tr>\n",
       "    <tr>\n",
       "      <th>50%</th>\n",
       "      <td>35.50000</td>\n",
       "      <td>0.000000</td>\n",
       "      <td>4.000000</td>\n",
       "      <td>2.180000</td>\n",
       "    </tr>\n",
       "    <tr>\n",
       "      <th>75%</th>\n",
       "      <td>37.75000</td>\n",
       "      <td>0.000000</td>\n",
       "      <td>4.000000</td>\n",
       "      <td>9.100000</td>\n",
       "    </tr>\n",
       "    <tr>\n",
       "      <th>max</th>\n",
       "      <td>40.00000</td>\n",
       "      <td>2.000000</td>\n",
       "      <td>4.000000</td>\n",
       "      <td>12.000000</td>\n",
       "    </tr>\n",
       "  </tbody>\n",
       "</table>\n",
       "</div>"
      ],
      "text/plain": [
       "             id  Analyst_Average_Score  Analyst_Rank  Reference_Final_Score\n",
       "count  10.00000              10.000000     10.000000              10.000000\n",
       "mean   35.50000               0.300000      3.400000               4.532000\n",
       "std     3.02765               0.674949      1.074968               4.834468\n",
       "min    31.00000               0.000000      1.000000               0.050000\n",
       "25%    33.25000               0.000000      3.250000               0.505000\n",
       "50%    35.50000               0.000000      4.000000               2.180000\n",
       "75%    37.75000               0.000000      4.000000               9.100000\n",
       "max    40.00000               2.000000      4.000000              12.000000"
      ]
     },
     "execution_count": 7,
     "metadata": {},
     "output_type": "execute_result"
    }
   ],
   "source": [
    "news_dataframe.describe()"
   ]
  },
  {
   "cell_type": "code",
   "execution_count": 8,
   "metadata": {},
   "outputs": [
    {
     "data": {
      "text/html": [
       "<div>\n",
       "<style scoped>\n",
       "    .dataframe tbody tr th:only-of-type {\n",
       "        vertical-align: middle;\n",
       "    }\n",
       "\n",
       "    .dataframe tbody tr th {\n",
       "        vertical-align: top;\n",
       "    }\n",
       "\n",
       "    .dataframe thead th {\n",
       "        text-align: right;\n",
       "    }\n",
       "</style>\n",
       "<table border=\"1\" class=\"dataframe\">\n",
       "  <thead>\n",
       "    <tr style=\"text-align: right;\">\n",
       "      <th></th>\n",
       "      <th>Domain</th>\n",
       "      <th>Title</th>\n",
       "      <th>Description</th>\n",
       "      <th>Body</th>\n",
       "      <th>Link</th>\n",
       "    </tr>\n",
       "  </thead>\n",
       "  <tbody>\n",
       "    <tr>\n",
       "      <th>count</th>\n",
       "      <td>10</td>\n",
       "      <td>10</td>\n",
       "      <td>10</td>\n",
       "      <td>10</td>\n",
       "      <td>10</td>\n",
       "    </tr>\n",
       "    <tr>\n",
       "      <th>unique</th>\n",
       "      <td>9</td>\n",
       "      <td>10</td>\n",
       "      <td>10</td>\n",
       "      <td>10</td>\n",
       "      <td>10</td>\n",
       "    </tr>\n",
       "    <tr>\n",
       "      <th>top</th>\n",
       "      <td>eminetra.co.za</td>\n",
       "      <td>Boris Johnson using a taxpayer-funded jet for ...</td>\n",
       "      <td>…often trigger a protest vote that can upset…t...</td>\n",
       "      <td>Boris Johnson using a taxpayer-funded jet for ...</td>\n",
       "      <td>https://rassegnastampa.news/boris-johnson-usin...</td>\n",
       "    </tr>\n",
       "    <tr>\n",
       "      <th>freq</th>\n",
       "      <td>2</td>\n",
       "      <td>1</td>\n",
       "      <td>1</td>\n",
       "      <td>1</td>\n",
       "      <td>1</td>\n",
       "    </tr>\n",
       "  </tbody>\n",
       "</table>\n",
       "</div>"
      ],
      "text/plain": [
       "                Domain                                              Title  \\\n",
       "count               10                                                 10   \n",
       "unique               9                                                 10   \n",
       "top     eminetra.co.za  Boris Johnson using a taxpayer-funded jet for ...   \n",
       "freq                 2                                                  1   \n",
       "\n",
       "                                              Description  \\\n",
       "count                                                  10   \n",
       "unique                                                 10   \n",
       "top     …often trigger a protest vote that can upset…t...   \n",
       "freq                                                    1   \n",
       "\n",
       "                                                     Body  \\\n",
       "count                                                  10   \n",
       "unique                                                 10   \n",
       "top     Boris Johnson using a taxpayer-funded jet for ...   \n",
       "freq                                                    1   \n",
       "\n",
       "                                                     Link  \n",
       "count                                                  10  \n",
       "unique                                                 10  \n",
       "top     https://rassegnastampa.news/boris-johnson-usin...  \n",
       "freq                                                    1  "
      ]
     },
     "execution_count": 8,
     "metadata": {},
     "output_type": "execute_result"
    }
   ],
   "source": [
    "news_dataframe.select_dtypes(exclude=['int64','float64','datetime64']).describe()"
   ]
  },
  {
   "cell_type": "markdown",
   "metadata": {},
   "source": [
    "# <u>**WORD EMBEDDING**</u>"
   ]
  },
  {
   "cell_type": "code",
   "execution_count": 9,
   "metadata": {},
   "outputs": [],
   "source": [
    "from embed_classify import embed_data\n",
    "news_title_vectors = embed_data((news_dataframe['Title']).to_list())\n",
    "news_desc_vectors = embed_data((news_dataframe['Description']).to_list())"
   ]
  },
  {
   "cell_type": "markdown",
   "metadata": {},
   "source": [
    "# <u>**SVM CLASSIFIER TO PERFORM CLUSTERING**</u>"
   ]
  },
  {
   "cell_type": "code",
   "execution_count": 10,
   "metadata": {},
   "outputs": [
    {
     "name": "stdout",
     "output_type": "stream",
     "text": [
      "[0 0 0 0 0 0 0 0 0 0]\n"
     ]
    }
   ],
   "source": [
    "my_path =\"D:\\\\10XAcademy\\\\Prompt_Engineering_Design\" \n",
    "\n",
    "os.chdir(my_path)\n",
    "path_to_module = os.path.abspath(os.getcwd()+\"\\\\models\")\n",
    "if path_to_module not in sys.path:\n",
    "    sys.path.append(path_to_module)\n",
    "from svm_classifier import SVMClassifier\n",
    "classfier = SVMClassifier(news_title_vectors, news_dataframe['Analyst_Average_Score'])\n",
    "print(classfier.classification_model().predict(news_desc_vectors))"
   ]
  },
  {
   "cell_type": "code",
   "execution_count": 11,
   "metadata": {},
   "outputs": [
    {
     "name": "stdout",
     "output_type": "stream",
     "text": [
      "[0, 0, 0, 0, 0, 1, 0, 2, 0, 0]\n"
     ]
    }
   ],
   "source": [
    "print(news_dataframe['Analyst_Average_Score'].to_list())"
   ]
  },
  {
   "cell_type": "markdown",
   "metadata": {},
   "source": [
    "# <u>**PROMPT BASED CLASSIFICATION**</u>"
   ]
  },
  {
   "cell_type": "code",
   "execution_count": null,
   "metadata": {},
   "outputs": [],
   "source": [
    "import classify_api\n",
    "examples = classify_api.create_examples(news_dataframe.drop(['Analyst_Average_Score','Timestamp'],axis=1).values.tolist(), news_dataframe['Analyst_Average_Score'].values.tolist())\n",
    "y_pred = news_dataframe.drop('Timestamp',axis=1).apply(func=classify_api.classify_data, args=(examples,)).tolist()"
   ]
  }
 ],
 "metadata": {
  "kernelspec": {
   "display_name": "Python 3.10.4 ('myenv')",
   "language": "python",
   "name": "python3"
  },
  "language_info": {
   "codemirror_mode": {
    "name": "ipython",
    "version": 3
   },
   "file_extension": ".py",
   "mimetype": "text/x-python",
   "name": "python",
   "nbconvert_exporter": "python",
   "pygments_lexer": "ipython3",
   "version": "3.10.4"
  },
  "orig_nbformat": 4,
  "vscode": {
   "interpreter": {
    "hash": "f61505df545e71d218b2a3d8a67aa63bf357ca6798109a5ea79f5fc3ecda9894"
   }
  }
 },
 "nbformat": 4,
 "nbformat_minor": 2
}
