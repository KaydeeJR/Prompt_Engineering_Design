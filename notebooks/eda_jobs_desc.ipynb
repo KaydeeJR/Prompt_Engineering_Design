{
 "cells": [
  {
   "cell_type": "markdown",
   "metadata": {},
   "source": [
    "# <u>**Accessing scripts folder**</u>"
   ]
  },
  {
   "cell_type": "code",
   "execution_count": 1,
   "metadata": {},
   "outputs": [],
   "source": [
    "import os, sys\n",
    "my_path =\"D:\\\\10XAcademy\\\\Prompt_Engineering_Design\" \n",
    "\n",
    "os.chdir(my_path)\n",
    "path_to_module = os.path.abspath(os.getcwd()+\"\\\\scripts\")\n",
    "if path_to_module not in sys.path:\n",
    "    sys.path.append(path_to_module)"
   ]
  },
  {
   "cell_type": "markdown",
   "metadata": {},
   "source": [
    "# <u>**Fetching data**</u>"
   ]
  },
  {
   "cell_type": "code",
   "execution_count": 2,
   "metadata": {},
   "outputs": [
    {
     "name": "stdout",
     "output_type": "stream",
     "text": [
      "33 records fetched from JobsDesc table\n"
     ]
    }
   ],
   "source": [
    "from add_to_SQL_DB import db_execute_fetch\n",
    "from extract_dataframe import save_df_to_csv\n",
    "jobs_dataframe = db_execute_fetch(dBName='prompt_engineering', tablename='JobsDesc')\n",
    "# training dataframe\n",
    "train_dataframe = jobs_dataframe.iloc[0:22]\n",
    "# testing dataframe\n",
    "test_dataframe = jobs_dataframe.iloc[22:]\n",
    "save_df_to_csv(train_dataframe,os.getcwd()+\"\\\\data\\\\jobs_desc_train.csv\")"
   ]
  },
  {
   "cell_type": "markdown",
   "metadata": {},
   "source": [
    "# <u>**Dataset Exploration**</u>"
   ]
  },
  {
   "cell_type": "code",
   "execution_count": 3,
   "metadata": {},
   "outputs": [
    {
     "name": "stdout",
     "output_type": "stream",
     "text": [
      "<class 'pandas.core.frame.DataFrame'>\n",
      "RangeIndex: 22 entries, 0 to 21\n",
      "Data columns (total 4 columns):\n",
      " #   Column     Non-Null Count  Dtype \n",
      "---  ------     --------------  ----- \n",
      " 0   id         22 non-null     int64 \n",
      " 1   Document   22 non-null     object\n",
      " 2   Tokens     22 non-null     object\n",
      " 3   Relations  22 non-null     object\n",
      "dtypes: int64(1), object(3)\n",
      "memory usage: 832.0+ bytes\n"
     ]
    }
   ],
   "source": [
    "train_dataframe.info()"
   ]
  },
  {
   "cell_type": "code",
   "execution_count": 4,
   "metadata": {},
   "outputs": [
    {
     "name": "stdout",
     "output_type": "stream",
     "text": [
      "<class 'pandas.core.frame.DataFrame'>\n",
      "RangeIndex: 11 entries, 22 to 32\n",
      "Data columns (total 4 columns):\n",
      " #   Column     Non-Null Count  Dtype \n",
      "---  ------     --------------  ----- \n",
      " 0   id         11 non-null     int64 \n",
      " 1   Document   11 non-null     object\n",
      " 2   Tokens     11 non-null     object\n",
      " 3   Relations  11 non-null     object\n",
      "dtypes: int64(1), object(3)\n",
      "memory usage: 484.0+ bytes\n"
     ]
    }
   ],
   "source": [
    "test_dataframe.info()"
   ]
  },
  {
   "cell_type": "code",
   "execution_count": 5,
   "metadata": {},
   "outputs": [
    {
     "data": {
      "text/plain": [
       "(22, 4)"
      ]
     },
     "execution_count": 5,
     "metadata": {},
     "output_type": "execute_result"
    }
   ],
   "source": [
    "train_dataframe.shape"
   ]
  },
  {
   "cell_type": "code",
   "execution_count": 6,
   "metadata": {},
   "outputs": [
    {
     "data": {
      "text/plain": [
       "(11, 4)"
      ]
     },
     "execution_count": 6,
     "metadata": {},
     "output_type": "execute_result"
    }
   ],
   "source": [
    "test_dataframe.shape"
   ]
  },
  {
   "cell_type": "code",
   "execution_count": 7,
   "metadata": {},
   "outputs": [
    {
     "data": {
      "text/html": [
       "<div>\n",
       "<style scoped>\n",
       "    .dataframe tbody tr th:only-of-type {\n",
       "        vertical-align: middle;\n",
       "    }\n",
       "\n",
       "    .dataframe tbody tr th {\n",
       "        vertical-align: top;\n",
       "    }\n",
       "\n",
       "    .dataframe thead th {\n",
       "        text-align: right;\n",
       "    }\n",
       "</style>\n",
       "<table border=\"1\" class=\"dataframe\">\n",
       "  <thead>\n",
       "    <tr style=\"text-align: right;\">\n",
       "      <th></th>\n",
       "      <th>id</th>\n",
       "      <th>Document</th>\n",
       "      <th>Tokens</th>\n",
       "      <th>Relations</th>\n",
       "    </tr>\n",
       "  </thead>\n",
       "  <tbody>\n",
       "    <tr>\n",
       "      <th>0</th>\n",
       "      <td>166</td>\n",
       "      <td>Bachelor's degree in Mechanical Engineering or...</td>\n",
       "      <td>[{'text': 'Bachelor', 'start': 0, 'end': 8, 't...</td>\n",
       "      <td>[{'child': 4, 'head': 0, 'relationLabel': 'DEG...</td>\n",
       "    </tr>\n",
       "    <tr>\n",
       "      <th>1</th>\n",
       "      <td>167</td>\n",
       "      <td>10+ years of software engineering work experie...</td>\n",
       "      <td>[{'text': '10+ years', 'start': 0, 'end': 9, '...</td>\n",
       "      <td>[{'child': 4, 'head': 0, 'relationLabel': 'EXP...</td>\n",
       "    </tr>\n",
       "    <tr>\n",
       "      <th>2</th>\n",
       "      <td>168</td>\n",
       "      <td>3+ years Swift &amp; Objective-C and experience wi...</td>\n",
       "      <td>[{'text': '3+ years', 'start': 0, 'end': 8, 't...</td>\n",
       "      <td>[{'child': 3, 'head': 0, 'relationLabel': 'EXP...</td>\n",
       "    </tr>\n",
       "    <tr>\n",
       "      <th>3</th>\n",
       "      <td>169</td>\n",
       "      <td>8+ years experience in software engineering le...</td>\n",
       "      <td>[{'text': '8+ years', 'start': 0, 'end': 8, 't...</td>\n",
       "      <td>[{'child': 5, 'head': 0, 'relationLabel': 'EXP...</td>\n",
       "    </tr>\n",
       "    <tr>\n",
       "      <th>4</th>\n",
       "      <td>170</td>\n",
       "      <td>BS degree in Computer Science or related field...</td>\n",
       "      <td>[{'text': 'BS', 'start': 0, 'end': 2, 'token_s...</td>\n",
       "      <td>[{'child': 3, 'head': 0, 'relationLabel': 'DEG...</td>\n",
       "    </tr>\n",
       "  </tbody>\n",
       "</table>\n",
       "</div>"
      ],
      "text/plain": [
       "    id                                           Document  \\\n",
       "0  166  Bachelor's degree in Mechanical Engineering or...   \n",
       "1  167  10+ years of software engineering work experie...   \n",
       "2  168  3+ years Swift & Objective-C and experience wi...   \n",
       "3  169  8+ years experience in software engineering le...   \n",
       "4  170  BS degree in Computer Science or related field...   \n",
       "\n",
       "                                              Tokens  \\\n",
       "0  [{'text': 'Bachelor', 'start': 0, 'end': 8, 't...   \n",
       "1  [{'text': '10+ years', 'start': 0, 'end': 9, '...   \n",
       "2  [{'text': '3+ years', 'start': 0, 'end': 8, 't...   \n",
       "3  [{'text': '8+ years', 'start': 0, 'end': 8, 't...   \n",
       "4  [{'text': 'BS', 'start': 0, 'end': 2, 'token_s...   \n",
       "\n",
       "                                           Relations  \n",
       "0  [{'child': 4, 'head': 0, 'relationLabel': 'DEG...  \n",
       "1  [{'child': 4, 'head': 0, 'relationLabel': 'EXP...  \n",
       "2  [{'child': 3, 'head': 0, 'relationLabel': 'EXP...  \n",
       "3  [{'child': 5, 'head': 0, 'relationLabel': 'EXP...  \n",
       "4  [{'child': 3, 'head': 0, 'relationLabel': 'DEG...  "
      ]
     },
     "execution_count": 7,
     "metadata": {},
     "output_type": "execute_result"
    }
   ],
   "source": [
    "train_dataframe.head()"
   ]
  },
  {
   "cell_type": "code",
   "execution_count": 8,
   "metadata": {},
   "outputs": [
    {
     "data": {
      "text/html": [
       "<div>\n",
       "<style scoped>\n",
       "    .dataframe tbody tr th:only-of-type {\n",
       "        vertical-align: middle;\n",
       "    }\n",
       "\n",
       "    .dataframe tbody tr th {\n",
       "        vertical-align: top;\n",
       "    }\n",
       "\n",
       "    .dataframe thead th {\n",
       "        text-align: right;\n",
       "    }\n",
       "</style>\n",
       "<table border=\"1\" class=\"dataframe\">\n",
       "  <thead>\n",
       "    <tr style=\"text-align: right;\">\n",
       "      <th></th>\n",
       "      <th>id</th>\n",
       "      <th>Document</th>\n",
       "      <th>Tokens</th>\n",
       "      <th>Relations</th>\n",
       "    </tr>\n",
       "  </thead>\n",
       "  <tbody>\n",
       "    <tr>\n",
       "      <th>22</th>\n",
       "      <td>188</td>\n",
       "      <td>\\nCurrently holding a faculty, industry, or go...</td>\n",
       "      <td>[{'text': 'Ph.D.', 'start': 75, 'end': 80, 'to...</td>\n",
       "      <td>[{'child': 18, 'head': 14, 'relationLabel': 'D...</td>\n",
       "    </tr>\n",
       "    <tr>\n",
       "      <th>23</th>\n",
       "      <td>189</td>\n",
       "      <td>\\n2+ years experience in the online advertisin...</td>\n",
       "      <td>[{'text': '2+ years', 'start': 1, 'end': 9, 't...</td>\n",
       "      <td>[{'child': 7, 'head': 1, 'relationLabel': 'EXP...</td>\n",
       "    </tr>\n",
       "    <tr>\n",
       "      <th>24</th>\n",
       "      <td>190</td>\n",
       "      <td>\\nBA/BS\\n5+ years of program or project manage...</td>\n",
       "      <td>[{'text': '5+ years', 'start': 7, 'end': 15, '...</td>\n",
       "      <td>[{'child': 11, 'head': 5, 'relationLabel': 'EX...</td>\n",
       "    </tr>\n",
       "    <tr>\n",
       "      <th>25</th>\n",
       "      <td>191</td>\n",
       "      <td>\\nCurrently enrolled in a full-time degree pro...</td>\n",
       "      <td>[{'text': 'Ph.D.', 'start': 801, 'end': 806, '...</td>\n",
       "      <td>[{'child': 140, 'head': 137, 'relationLabel': ...</td>\n",
       "    </tr>\n",
       "    <tr>\n",
       "      <th>26</th>\n",
       "      <td>192</td>\n",
       "      <td>\\nCurrently enrolled in a full-time degree pro...</td>\n",
       "      <td>[{'text': 'Ph.D.', 'start': 801, 'end': 806, '...</td>\n",
       "      <td>[{'child': 140, 'head': 137, 'relationLabel': ...</td>\n",
       "    </tr>\n",
       "  </tbody>\n",
       "</table>\n",
       "</div>"
      ],
      "text/plain": [
       "     id                                           Document  \\\n",
       "22  188  \\nCurrently holding a faculty, industry, or go...   \n",
       "23  189  \\n2+ years experience in the online advertisin...   \n",
       "24  190  \\nBA/BS\\n5+ years of program or project manage...   \n",
       "25  191  \\nCurrently enrolled in a full-time degree pro...   \n",
       "26  192  \\nCurrently enrolled in a full-time degree pro...   \n",
       "\n",
       "                                               Tokens  \\\n",
       "22  [{'text': 'Ph.D.', 'start': 75, 'end': 80, 'to...   \n",
       "23  [{'text': '2+ years', 'start': 1, 'end': 9, 't...   \n",
       "24  [{'text': '5+ years', 'start': 7, 'end': 15, '...   \n",
       "25  [{'text': 'Ph.D.', 'start': 801, 'end': 806, '...   \n",
       "26  [{'text': 'Ph.D.', 'start': 801, 'end': 806, '...   \n",
       "\n",
       "                                            Relations  \n",
       "22  [{'child': 18, 'head': 14, 'relationLabel': 'D...  \n",
       "23  [{'child': 7, 'head': 1, 'relationLabel': 'EXP...  \n",
       "24  [{'child': 11, 'head': 5, 'relationLabel': 'EX...  \n",
       "25  [{'child': 140, 'head': 137, 'relationLabel': ...  \n",
       "26  [{'child': 140, 'head': 137, 'relationLabel': ...  "
      ]
     },
     "execution_count": 8,
     "metadata": {},
     "output_type": "execute_result"
    }
   ],
   "source": [
    "test_dataframe.head()"
   ]
  },
  {
   "cell_type": "code",
   "execution_count": 9,
   "metadata": {},
   "outputs": [
    {
     "data": {
      "text/html": [
       "<div>\n",
       "<style scoped>\n",
       "    .dataframe tbody tr th:only-of-type {\n",
       "        vertical-align: middle;\n",
       "    }\n",
       "\n",
       "    .dataframe tbody tr th {\n",
       "        vertical-align: top;\n",
       "    }\n",
       "\n",
       "    .dataframe thead th {\n",
       "        text-align: right;\n",
       "    }\n",
       "</style>\n",
       "<table border=\"1\" class=\"dataframe\">\n",
       "  <thead>\n",
       "    <tr style=\"text-align: right;\">\n",
       "      <th></th>\n",
       "      <th>Tokens</th>\n",
       "      <th>Relations</th>\n",
       "    </tr>\n",
       "  </thead>\n",
       "  <tbody>\n",
       "    <tr>\n",
       "      <th>count</th>\n",
       "      <td>22</td>\n",
       "      <td>22</td>\n",
       "    </tr>\n",
       "    <tr>\n",
       "      <th>unique</th>\n",
       "      <td>21</td>\n",
       "      <td>21</td>\n",
       "    </tr>\n",
       "    <tr>\n",
       "      <th>top</th>\n",
       "      <td>[]</td>\n",
       "      <td>[]</td>\n",
       "    </tr>\n",
       "    <tr>\n",
       "      <th>freq</th>\n",
       "      <td>2</td>\n",
       "      <td>2</td>\n",
       "    </tr>\n",
       "  </tbody>\n",
       "</table>\n",
       "</div>"
      ],
      "text/plain": [
       "       Tokens Relations\n",
       "count      22        22\n",
       "unique     21        21\n",
       "top        []        []\n",
       "freq        2         2"
      ]
     },
     "execution_count": 9,
     "metadata": {},
     "output_type": "execute_result"
    }
   ],
   "source": [
    "train_dataframe.drop(['id','Document'],axis=1).describe()"
   ]
  },
  {
   "cell_type": "code",
   "execution_count": 10,
   "metadata": {},
   "outputs": [
    {
     "data": {
      "text/html": [
       "<div>\n",
       "<style scoped>\n",
       "    .dataframe tbody tr th:only-of-type {\n",
       "        vertical-align: middle;\n",
       "    }\n",
       "\n",
       "    .dataframe tbody tr th {\n",
       "        vertical-align: top;\n",
       "    }\n",
       "\n",
       "    .dataframe thead th {\n",
       "        text-align: right;\n",
       "    }\n",
       "</style>\n",
       "<table border=\"1\" class=\"dataframe\">\n",
       "  <thead>\n",
       "    <tr style=\"text-align: right;\">\n",
       "      <th></th>\n",
       "      <th>Tokens</th>\n",
       "      <th>Relations</th>\n",
       "    </tr>\n",
       "  </thead>\n",
       "  <tbody>\n",
       "    <tr>\n",
       "      <th>count</th>\n",
       "      <td>11</td>\n",
       "      <td>11</td>\n",
       "    </tr>\n",
       "    <tr>\n",
       "      <th>unique</th>\n",
       "      <td>10</td>\n",
       "      <td>10</td>\n",
       "    </tr>\n",
       "    <tr>\n",
       "      <th>top</th>\n",
       "      <td>[{'text': 'Ph.D.', 'start': 801, 'end': 806, '...</td>\n",
       "      <td>[{'child': 140, 'head': 137, 'relationLabel': ...</td>\n",
       "    </tr>\n",
       "    <tr>\n",
       "      <th>freq</th>\n",
       "      <td>2</td>\n",
       "      <td>2</td>\n",
       "    </tr>\n",
       "  </tbody>\n",
       "</table>\n",
       "</div>"
      ],
      "text/plain": [
       "                                                   Tokens  \\\n",
       "count                                                  11   \n",
       "unique                                                 10   \n",
       "top     [{'text': 'Ph.D.', 'start': 801, 'end': 806, '...   \n",
       "freq                                                    2   \n",
       "\n",
       "                                                Relations  \n",
       "count                                                  11  \n",
       "unique                                                 10  \n",
       "top     [{'child': 140, 'head': 137, 'relationLabel': ...  \n",
       "freq                                                    2  "
      ]
     },
     "execution_count": 10,
     "metadata": {},
     "output_type": "execute_result"
    }
   ],
   "source": [
    "test_dataframe.drop(['id','Document'],axis=1).describe()"
   ]
  },
  {
   "cell_type": "markdown",
   "metadata": {},
   "source": [
    "# <u>**JOB DETAILS EXTRACTION**</u>"
   ]
  },
  {
   "cell_type": "code",
   "execution_count": null,
   "metadata": {},
   "outputs": [],
   "source": []
  }
 ],
 "metadata": {
  "kernelspec": {
   "display_name": "Python 3.10.4 ('myenv')",
   "language": "python",
   "name": "python3"
  },
  "language_info": {
   "codemirror_mode": {
    "name": "ipython",
    "version": 3
   },
   "file_extension": ".py",
   "mimetype": "text/x-python",
   "name": "python",
   "nbconvert_exporter": "python",
   "pygments_lexer": "ipython3",
   "version": "3.10.4"
  },
  "orig_nbformat": 4,
  "vscode": {
   "interpreter": {
    "hash": "f61505df545e71d218b2a3d8a67aa63bf357ca6798109a5ea79f5fc3ecda9894"
   }
  }
 },
 "nbformat": 4,
 "nbformat_minor": 2
}
